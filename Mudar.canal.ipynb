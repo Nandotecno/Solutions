{
  "nbformat": 4,
  "nbformat_minor": 0,
  "metadata": {
    "colab": {
      "name": "Untitled9.ipynb",
      "provenance": [],
      "authorship_tag": "ABX9TyO2C+GkSEwak4+nl9oxRJlQ",
      "include_colab_link": true
    },
    "kernelspec": {
      "name": "python3",
      "display_name": "Python 3"
    },
    "language_info": {
      "name": "python"
    }
  },
  "cells": [
    {
      "cell_type": "markdown",
      "metadata": {
        "id": "view-in-github",
        "colab_type": "text"
      },
      "source": [
        "<a href=\"https://colab.research.google.com/github/Nandotecno/Solutions/blob/main/Mudar.canal.ipynb\" target=\"_parent\"><img src=\"https://colab.research.google.com/assets/colab-badge.svg\" alt=\"Open In Colab\"/></a>"
      ]
    },
    {
      "cell_type": "code",
      "metadata": {
        "id": "mM_dOjqPxebP"
      },
      "source": [
        "class Carro:\n",
        "  pass\n",
        "\n",
        "meu_carro = Carro()\n",
        "carro_vizinho = Carro()\n",
        "\n",
        "meu_carro.ano = 2010\n",
        "meu_carro.modelo = 'Siena'\n",
        "meu_carro.velocidade = 100\n",
        "\n",
        "carro_vizinho.ano = 2020\n",
        "carro_vizinho.modelo = 'Fusion'\n",
        "carro_vizinho.velocidade = 200\n"
      ],
      "execution_count": null,
      "outputs": []
    },
    {
      "cell_type": "code",
      "metadata": {
        "id": "5qSkz8a7y-qU"
      },
      "source": [
        "class Televisao():\n",
        "\n",
        "    def _init_(self):\n",
        "        self.ligada = False\n",
        "        self.canal = 2\n",
        "\n",
        "    def muda_canal_para_baixo(self):\n",
        "        self.canal -= 1\n",
        "\n",
        "    def muda_canal_para_cima(self):\n",
        "        self.canal += 1\n",
        "\n",
        "if __name__ == '_main_':\n",
        "    tv = Televisao()\n",
        "    print('Canal inicial:', tv.canal)\n",
        "    print('Ligada:', tv.ligada)\n",
        "\n",
        "    tv.ligada = True\n",
        "    tv.canal = 5\n",
        "\n",
        "    print('Ligada:', tv.ligada)\n",
        "    print('Canal inicial:', tv.canal)\n",
        "    tv.muda_canal_para_cima()\n",
        "    print('Canal +', tv.canal)\n",
        "    tv.muda_canal_para_cima()\n",
        "    print('Canal +', tv.canal)\n",
        "    tv.muda_canal_para_baixo()\n",
        "    print('Canal -', tv.canal)"
      ],
      "execution_count": null,
      "outputs": []
    },
    {
      "cell_type": "code",
      "metadata": {
        "colab": {
          "base_uri": "https://localhost:8080/",
          "height": 128
        },
        "id": "4PP2gt94zrbp",
        "outputId": "17d5d633-c347-4a94-f459-91645e15e6c2"
      },
      "source": [
        "public class controle{\n",
        "    Integer volumeMaximo=100, canalMaximo=50;\n",
        "    \n",
        "    tv t = new tv();\n",
        "\n",
        "void aumentarVolume(){\n",
        "    Integer volume = t.getVolume();\n",
        "    if(volume < volumeMaximo){\n",
        "       volume++;\n",
        "       t.setVolume(volume);\n",
        "    }else{\n",
        "        System.out.println(\"Volume já está no máximo\");\n",
        "    } \n",
        "}\n",
        "    \n",
        "    void diminuirVolume(){\n",
        "        \n",
        "    }\n",
        "    \n",
        "    void subirCanal(){\n",
        "        \n",
        "    }\n",
        "    \n",
        "    void descerCanal(){\n",
        "        \n",
        "    }\n",
        "}"
      ],
      "execution_count": null,
      "outputs": [
        {
          "output_type": "error",
          "ename": "SyntaxError",
          "evalue": "ignored",
          "traceback": [
            "\u001b[0;36m  File \u001b[0;32m\"<ipython-input-16-e4af71eb7502>\"\u001b[0;36m, line \u001b[0;32m1\u001b[0m\n\u001b[0;31m    public class controle{\u001b[0m\n\u001b[0m               ^\u001b[0m\n\u001b[0;31mSyntaxError\u001b[0m\u001b[0;31m:\u001b[0m invalid syntax\n"
          ]
        }
      ]
    },
    {
      "cell_type": "code",
      "metadata": {
        "colab": {
          "base_uri": "https://localhost:8080/"
        },
        "id": "zMiizPTuz59a",
        "outputId": "a5cd8edc-8d87-4caa-d675-9d7f3b4a6a47"
      },
      "source": [
        "class Televisao:\n",
        "\n",
        "    def __init__(self):\n",
        "        self.ligada = False\n",
        "        self.canal = 2\n",
        "\n",
        "    def muda_canal_para_baixo(self):\n",
        "        self.canal -= 1\n",
        "\n",
        "    def muda_canal_para_cima(self):\n",
        "        self.canal += 1\n",
        "\n",
        "if __name__ == '__main__':\n",
        "    tv = Televisao()\n",
        "    print('Canal inicial:', tv.canal)\n",
        "    print('Ligada:', tv.ligada)\n",
        "\n",
        "    tv.ligada = True\n",
        "    tv.canal = 5\n",
        "\n",
        "    print('Ligada:', tv.ligada)\n",
        "    print('Canal inicial:', tv.canal)\n",
        "    tv.muda_canal_para_cima()\n",
        "    print('Canal +', tv.canal)\n",
        "    tv.muda_canal_para_cima()\n",
        "    print('Canal +', tv.canal)\n",
        "    tv.muda_canal_para_baixo()\n",
        "    print('Canal -', tv.canal)"
      ],
      "execution_count": null,
      "outputs": [
        {
          "output_type": "stream",
          "text": [
            "Canal inicial: 2\n",
            "Ligada: False\n",
            "Ligada: True\n",
            "Canal inicial: 5\n",
            "Canal + 6\n",
            "Canal + 7\n",
            "Canal - 6\n"
          ],
          "name": "stdout"
        }
      ]
    }
  ]
}